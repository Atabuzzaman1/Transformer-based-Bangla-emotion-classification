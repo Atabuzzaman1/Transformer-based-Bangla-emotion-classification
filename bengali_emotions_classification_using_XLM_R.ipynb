{
  "cells": [
    {
      "cell_type": "markdown",
      "metadata": {
        "execution": {
          "iopub.execute_input": "2022-02-19T18:05:22.769523Z",
          "iopub.status.busy": "2022-02-19T18:05:22.768661Z",
          "iopub.status.idle": "2022-02-19T18:05:37.818589Z",
          "shell.execute_reply": "2022-02-19T18:05:37.817265Z",
          "shell.execute_reply.started": "2022-02-19T18:05:22.769421Z"
        },
        "id": "Mg-5oxn-Qioz"
      },
      "source": [
        "# Bengali Emotions Classification\n"
      ]
    },
    {
      "cell_type": "code",
      "source": [
        "!pip install transformers"
      ],
      "metadata": {
        "id": "DBIeG2hgQ6gA"
      },
      "execution_count": null,
      "outputs": []
    },
    {
      "cell_type": "code",
      "execution_count": null,
      "metadata": {
        "execution": {
          "iopub.execute_input": "2023-10-11T16:36:54.262460Z",
          "iopub.status.busy": "2023-10-11T16:36:54.261719Z",
          "iopub.status.idle": "2023-10-11T16:36:54.272124Z",
          "shell.execute_reply": "2023-10-11T16:36:54.270660Z",
          "shell.execute_reply.started": "2023-10-11T16:36:54.262376Z"
        },
        "id": "IiR9oCk8Qio4"
      },
      "outputs": [],
      "source": [
        "import warnings\n",
        "warnings.filterwarnings('ignore')"
      ]
    },
    {
      "cell_type": "code",
      "execution_count": null,
      "metadata": {
        "execution": {
          "iopub.execute_input": "2023-10-11T16:36:54.464070Z",
          "iopub.status.busy": "2023-10-11T16:36:54.463740Z",
          "iopub.status.idle": "2023-10-11T16:36:56.928020Z",
          "shell.execute_reply": "2023-10-11T16:36:56.926380Z",
          "shell.execute_reply.started": "2023-10-11T16:36:54.464031Z"
        },
        "id": "ubLZc1GmQio8"
      },
      "outputs": [],
      "source": [
        "import time\n",
        "\n",
        "import numpy as np\n",
        "import pandas as pd\n",
        "import torch\n",
        "import torch.nn as nn\n",
        "from torch.optim import AdamW\n",
        "from torch.utils.data import DataLoader\n",
        "from torch.utils.data import Dataset\n",
        "from tqdm.notebook import tqdm\n",
        "from transformers import BertModel, BertTokenizer, BertForSequenceClassification"
      ]
    },
    {
      "cell_type": "code",
      "execution_count": null,
      "metadata": {
        "execution": {
          "iopub.execute_input": "2023-10-11T16:36:54.277857Z",
          "iopub.status.busy": "2023-10-11T16:36:54.277667Z",
          "iopub.status.idle": "2023-10-11T16:36:54.429547Z",
          "shell.execute_reply": "2023-10-11T16:36:54.428001Z",
          "shell.execute_reply.started": "2023-10-11T16:36:54.277834Z"
        },
        "id": "Hm1f-bx1Qio6"
      },
      "outputs": [],
      "source": [
        "\n",
        "df = pd.read_csv(\"bangla_emotions_dataset_11927.csv\")"
      ]
    },
    {
      "cell_type": "code",
      "execution_count": null,
      "metadata": {
        "execution": {
          "iopub.execute_input": "2023-10-11T16:36:54.431890Z",
          "iopub.status.busy": "2023-10-11T16:36:54.431592Z",
          "iopub.status.idle": "2023-10-11T16:36:54.448639Z",
          "shell.execute_reply": "2023-10-11T16:36:54.447648Z",
          "shell.execute_reply.started": "2023-10-11T16:36:54.431851Z"
        },
        "id": "lTwPD1m6Qio6"
      },
      "outputs": [],
      "source": [
        "df.head()"
      ]
    },
    {
      "cell_type": "code",
      "execution_count": null,
      "metadata": {
        "execution": {
          "iopub.execute_input": "2023-10-11T16:36:54.451235Z",
          "iopub.status.busy": "2023-10-11T16:36:54.451027Z",
          "iopub.status.idle": "2023-10-11T16:36:54.462383Z",
          "shell.execute_reply": "2023-10-11T16:36:54.461300Z",
          "shell.execute_reply.started": "2023-10-11T16:36:54.451215Z"
        },
        "id": "7w0YR6AbQio7"
      },
      "outputs": [],
      "source": [
        "df=df[['ctexts','labels']]\n",
        "df.head(2)"
      ]
    },
    {
      "cell_type": "markdown",
      "metadata": {
        "id": "ncXBEg5uQio7"
      },
      "source": [
        "# Classify Emotions"
      ]
    },
    {
      "cell_type": "markdown",
      "metadata": {
        "id": "46Swr8hxQio8"
      },
      "source": [
        "# Prepare Datasets\n",
        "- Dataset Info: Datasets contain `48678` authentic news and `1299` fake news. For this experiment, instead of all authentic news, only 5 times of fake news was used.\n",
        "- And only consider the first 100 words (including headline and content)\n",
        "\n",
        "- On datasets: Both headline and content of news were used. And manually a separator was added also `[SEP]`.\n",
        "\n",
        "> BERT model is designed in such a way that the sentence has to start with the [CLS] token and end with the [SEP] token.\n",
        "If we want to make separation of two sentences we can use [SEP] between sentences"
      ]
    },
    {
      "cell_type": "markdown",
      "metadata": {
        "id": "MG5BtErAQio9"
      },
      "source": [
        "### Train and Test split:\n",
        "(only 25% data used for testing)\n",
        "- Total Dataset size: 10392\n",
        "- Total train size: 8313\n",
        "- Test train size: 2079"
      ]
    },
    {
      "cell_type": "code",
      "execution_count": null,
      "metadata": {
        "execution": {
          "iopub.execute_input": "2023-10-11T16:36:56.930507Z",
          "iopub.status.busy": "2023-10-11T16:36:56.930106Z",
          "iopub.status.idle": "2023-10-11T16:36:56.936506Z",
          "shell.execute_reply": "2023-10-11T16:36:56.935499Z",
          "shell.execute_reply.started": "2023-10-11T16:36:56.930471Z"
        },
        "id": "z2jYbOW4Qio9"
      },
      "outputs": [],
      "source": [
        "class EmotionDatasets(Dataset):\n",
        "    def __init__(self, data, max_length=100):\n",
        "        self.data = data\n",
        "\n",
        "        self.config = {\n",
        "            \"max_length\": max_length,\n",
        "            \"padding\": \"max_length\",\n",
        "            \"return_tensors\": \"pt\",\n",
        "            \"truncation\": True,\n",
        "            \"add_special_tokens\": True\n",
        "        }\n",
        "\n",
        "    def __len__(self):\n",
        "        return len(self.data)\n",
        "\n",
        "    def __getitem__(self, idx):\n",
        "        value = self.data.iloc[idx]\n",
        "        return value['ctexts']+\"[SEP]\" , value['labels']"
      ]
    },
    {
      "cell_type": "code",
      "execution_count": null,
      "metadata": {
        "execution": {
          "iopub.execute_input": "2023-10-11T16:36:56.938194Z",
          "iopub.status.busy": "2023-10-11T16:36:56.937556Z",
          "iopub.status.idle": "2023-10-11T16:36:56.958592Z",
          "shell.execute_reply": "2023-10-11T16:36:56.957475Z",
          "shell.execute_reply.started": "2023-10-11T16:36:56.938169Z"
        },
        "id": "ZG2yeoHUQio9"
      },
      "outputs": [],
      "source": [
        "len(df)"
      ]
    },
    {
      "cell_type": "code",
      "execution_count": null,
      "metadata": {
        "execution": {
          "iopub.execute_input": "2023-10-11T16:36:56.959879Z",
          "iopub.status.busy": "2023-10-11T16:36:56.959676Z",
          "iopub.status.idle": "2023-10-11T16:36:57.214227Z",
          "shell.execute_reply": "2023-10-11T16:36:57.212752Z",
          "shell.execute_reply.started": "2023-10-11T16:36:56.959855Z"
        },
        "id": "fKA8hb__Qio-"
      },
      "outputs": [],
      "source": [
        "from sklearn.model_selection import train_test_split\n",
        "\n",
        "train_df, test_df = train_test_split(df, test_size=0.25, random_state=121, stratify=df['labels'])"
      ]
    },
    {
      "cell_type": "code",
      "execution_count": null,
      "metadata": {
        "execution": {
          "iopub.execute_input": "2023-10-11T16:36:57.216195Z",
          "iopub.status.busy": "2023-10-11T16:36:57.215720Z",
          "iopub.status.idle": "2023-10-11T16:36:57.222872Z",
          "shell.execute_reply": "2023-10-11T16:36:57.222015Z",
          "shell.execute_reply.started": "2023-10-11T16:36:57.216157Z"
        },
        "id": "Z_jLnBniQio-"
      },
      "outputs": [],
      "source": [
        "len(train_df), len(test_df)"
      ]
    },
    {
      "cell_type": "code",
      "execution_count": null,
      "metadata": {
        "execution": {
          "iopub.execute_input": "2023-10-11T16:36:57.224143Z",
          "iopub.status.busy": "2023-10-11T16:36:57.223908Z",
          "iopub.status.idle": "2023-10-11T16:36:57.240650Z",
          "shell.execute_reply": "2023-10-11T16:36:57.239527Z",
          "shell.execute_reply.started": "2023-10-11T16:36:57.224118Z"
        },
        "id": "8nwjuYhYQio-"
      },
      "outputs": [],
      "source": [
        "training_data = EmotionDatasets(train_df)\n",
        "train_dataloader = DataLoader(training_data, batch_size=32, shuffle=True)"
      ]
    },
    {
      "cell_type": "code",
      "execution_count": null,
      "metadata": {
        "execution": {
          "iopub.execute_input": "2023-10-11T16:36:57.242282Z",
          "iopub.status.busy": "2023-10-11T16:36:57.242062Z",
          "iopub.status.idle": "2023-10-11T16:36:57.262523Z",
          "shell.execute_reply": "2023-10-11T16:36:57.261697Z",
          "shell.execute_reply.started": "2023-10-11T16:36:57.242257Z"
        },
        "id": "gBAKdTxQQio-"
      },
      "outputs": [],
      "source": [
        "test_data = EmotionDatasets(test_df)\n",
        "test_dataloader = DataLoader(test_data, batch_size=32, shuffle=True)"
      ]
    },
    {
      "cell_type": "markdown",
      "metadata": {
        "id": "uzgY3zEVQio-"
      },
      "source": [
        "# Define Model\n",
        " `Bert` stands for Bidirectional Encoder Representations from Transformers used in this experiment with two additional `Fully Connected` Layers.\n",
        "\n",
        " For this experiment, [Bangla Bert](https://huggingface.co/sagorsarker/bangla-bert-base) pretrained model was used.\n",
        "\n",
        "#### FC layers\n",
        "- First Linear Layer: IO(768 -> 128)\n",
        "- Second Linear Layer: IO(128 -> 2)\n",
        "\n",
        "#### Additionals\n",
        "- Activation Fuction: Relu\n",
        "- Dropout: 20%\n",
        "- Optimizer: AdamW\n",
        "- Loss: CrossEntropyLoss\n",
        "- Scheduler: StepLR"
      ]
    },
    {
      "cell_type": "code",
      "execution_count": null,
      "metadata": {
        "execution": {
          "iopub.execute_input": "2023-10-11T16:36:57.264145Z",
          "iopub.status.busy": "2023-10-11T16:36:57.263870Z",
          "iopub.status.idle": "2023-10-11T16:36:57.285644Z",
          "shell.execute_reply": "2023-10-11T16:36:57.284616Z",
          "shell.execute_reply.started": "2023-10-11T16:36:57.264109Z"
        },
        "id": "3eIrMLjPQio_"
      },
      "outputs": [],
      "source": [
        "class EmotionBert(nn.Module):\n",
        "\n",
        "    def __init__(self, bert):\n",
        "        super(EmotionBert, self).__init__()\n",
        "\n",
        "        self.bert = bert\n",
        "\n",
        "        # dropout layer\n",
        "        self.dropout = nn.Dropout(0.2)\n",
        "\n",
        "        # relu activation function\n",
        "        self.relu = nn.ReLU()\n",
        "\n",
        "        # dense layer 1\n",
        "        self.fc1 = nn.Linear(768, 128)\n",
        "\n",
        "        # dense layer 2 (Output layer)\n",
        "        self.fc2 = nn.Linear(128, 6)\n",
        "\n",
        "    # define the forward pass\n",
        "    def forward(self, input_ids, attention_mask):\n",
        "        # pass the inputs to the model\n",
        "        out = self.bert(input_ids, attention_mask=attention_mask)\n",
        "\n",
        "        x = self.fc1(out[1])\n",
        "        x = self.relu(x)\n",
        "        # output layer\n",
        "        x = self.fc2(self.dropout(x))\n",
        "\n",
        "        return x"
      ]
    },
    {
      "cell_type": "code",
      "source": [
        "from transformers import AutoTokenizer\n",
        "\n",
        "bert_model_name = \"xlm-roberta-base\"\n",
        "bert = BertModel.from_pretrained(bert_model_name)\n",
        "tokenizer = AutoTokenizer.from_pretrained(bert_model_name)"
      ],
      "metadata": {
        "id": "Pt6r8n1Te5n1"
      },
      "execution_count": null,
      "outputs": []
    },
    {
      "cell_type": "code",
      "execution_count": null,
      "metadata": {
        "execution": {
          "iopub.execute_input": "2023-10-11T16:36:57.858435Z",
          "iopub.status.busy": "2023-10-11T16:36:57.858216Z",
          "iopub.status.idle": "2023-10-11T16:37:22.096577Z",
          "shell.execute_reply": "2023-10-11T16:37:22.095216Z",
          "shell.execute_reply.started": "2023-10-11T16:36:57.858408Z"
        },
        "id": "kp024E7GQio_"
      },
      "outputs": [],
      "source": [
        "'''\n",
        "from transformers import AutoTokenizer, AutoModelForMaskedLM, BertModel, BertTokenizer, AutoModelForSequenceClassification\n",
        "\n",
        "tokenizer = AutoTokenizer.from_pretrained('xlm-roberta-base')\n",
        "bert = BertModel.from_pretrained(\"xlm-roberta-base\")\n",
        "'''"
      ]
    },
    {
      "cell_type": "code",
      "execution_count": null,
      "metadata": {
        "execution": {
          "iopub.status.busy": "2023-10-11T16:37:22.100130Z",
          "iopub.status.idle": "2023-10-11T16:37:22.101030Z",
          "shell.execute_reply": "2023-10-11T16:37:22.100781Z",
          "shell.execute_reply.started": "2023-10-11T16:37:22.100747Z"
        },
        "id": "VZB41N88Qio_"
      },
      "outputs": [],
      "source": [
        "# for param in bert.parameters():\n",
        "#     param.requires_grad = False"
      ]
    },
    {
      "cell_type": "code",
      "execution_count": null,
      "metadata": {
        "execution": {
          "iopub.status.busy": "2023-10-11T16:37:22.102268Z",
          "iopub.status.idle": "2023-10-11T16:37:22.102518Z",
          "shell.execute_reply": "2023-10-11T16:37:22.102413Z",
          "shell.execute_reply.started": "2023-10-11T16:37:22.102400Z"
        },
        "id": "jgdkqHn5Qio_"
      },
      "outputs": [],
      "source": [
        "device = torch.device(\"cuda\" if torch.cuda.is_available() else \"cpu\")\n",
        "model = EmotionBert(bert)\n",
        "model.to(device)"
      ]
    },
    {
      "cell_type": "code",
      "execution_count": null,
      "metadata": {
        "execution": {
          "iopub.status.busy": "2023-10-11T16:37:22.103977Z",
          "iopub.status.idle": "2023-10-11T16:37:22.104793Z",
          "shell.execute_reply": "2023-10-11T16:37:22.104612Z",
          "shell.execute_reply.started": "2023-10-11T16:37:22.104586Z"
        },
        "id": "ayRsR__xQio_"
      },
      "outputs": [],
      "source": [
        "device"
      ]
    },
    {
      "cell_type": "code",
      "execution_count": null,
      "metadata": {
        "execution": {
          "iopub.status.busy": "2023-10-11T16:37:22.106183Z",
          "iopub.status.idle": "2023-10-11T16:37:22.106672Z",
          "shell.execute_reply": "2023-10-11T16:37:22.106494Z",
          "shell.execute_reply.started": "2023-10-11T16:37:22.106471Z"
        },
        "id": "-_vpUMuoQio_"
      },
      "outputs": [],
      "source": [
        "s = \"আমি বাংলায় গান গাই। [SEP]\"\n",
        "t = tokenizer.encode_plus(s, return_tensors=\"pt\").to(device)\n",
        "print(t)\n",
        "out = model(**t)\n",
        "print(out)"
      ]
    },
    {
      "cell_type": "code",
      "execution_count": null,
      "metadata": {
        "execution": {
          "iopub.status.busy": "2023-10-11T16:37:22.108260Z",
          "iopub.status.idle": "2023-10-11T16:37:22.108524Z",
          "shell.execute_reply": "2023-10-11T16:37:22.108404Z",
          "shell.execute_reply.started": "2023-10-11T16:37:22.108385Z"
        },
        "id": "nEHzx1QUQipA"
      },
      "outputs": [],
      "source": [
        "from torch.optim.lr_scheduler import StepLR\n",
        "\n",
        "optimizer = AdamW(model.parameters(), lr=1e-5)\n",
        "criterion = nn.CrossEntropyLoss()\n",
        "scheduler = StepLR(optimizer, step_size=2, gamma=0.1)"
      ]
    },
    {
      "cell_type": "markdown",
      "metadata": {
        "id": "82glLup-QipA"
      },
      "source": [
        "# Lets Train"
      ]
    },
    {
      "cell_type": "code",
      "execution_count": null,
      "metadata": {
        "execution": {
          "iopub.status.busy": "2023-10-11T16:37:22.109357Z",
          "iopub.status.idle": "2023-10-11T16:37:22.109583Z",
          "shell.execute_reply": "2023-10-11T16:37:22.109477Z",
          "shell.execute_reply.started": "2023-10-11T16:37:22.109460Z"
        },
        "id": "nMN9bcceQipA"
      },
      "outputs": [],
      "source": [
        "def train(model, dataloader, optimizer, criterion, config):\n",
        "    model.train()  # prep model for training\n",
        "    train_loss = 0\n",
        "    for batch in tqdm(dataloader):\n",
        "        text, labels = batch\n",
        "\n",
        "        model.zero_grad()\n",
        "\n",
        "        inputs = tokenizer.batch_encode_plus(text, **config)\n",
        "        input_ids = inputs['input_ids'].to(device)\n",
        "        attention_mask = inputs['attention_mask'].to(device)\n",
        "        labels = labels.to(device)\n",
        "\n",
        "        # move things to model\n",
        "        logs = model(input_ids=input_ids, attention_mask=attention_mask)\n",
        "\n",
        "        loss = criterion(logs, labels)\n",
        "        train_loss += loss.item() * input_ids.size(0)\n",
        "        loss.backward()\n",
        "\n",
        "        # clip the the gradients to 1.0. It helps in preventing the exploding gradient problem\n",
        "        nn.utils.clip_grad_norm_(model.parameters(), 1.0)\n",
        "        optimizer.step()\n",
        "\n",
        "    return train_loss"
      ]
    },
    {
      "cell_type": "code",
      "execution_count": null,
      "metadata": {
        "execution": {
          "iopub.status.busy": "2023-10-11T16:37:22.110645Z",
          "iopub.status.idle": "2023-10-11T16:37:22.111121Z",
          "shell.execute_reply": "2023-10-11T16:37:22.111013Z",
          "shell.execute_reply.started": "2023-10-11T16:37:22.110993Z"
        },
        "id": "6L8q8WbrQipA"
      },
      "outputs": [],
      "source": [
        "def evaluate(model, dataloader, criterion, config):\n",
        "    total = 0\n",
        "    correct = 0\n",
        "    valid_loss = 0.0\n",
        "\n",
        "    model.eval()  # prep model for evaluation\n",
        "    for batch in dataloader:\n",
        "        text, labels = batch\n",
        "        inputs = tokenizer.batch_encode_plus(text, **config)\n",
        "        input_ids = inputs['input_ids'].to(device)\n",
        "        attention_mask = inputs['attention_mask'].to(device)\n",
        "        labels = labels.to(device)\n",
        "\n",
        "        # move things to model\n",
        "        output = model(input_ids=input_ids, attention_mask=attention_mask)\n",
        "\n",
        "        loss_p = criterion(output, labels)\n",
        "        # update running validation loss\n",
        "        valid_loss += loss_p.item() * input_ids.size(0)\n",
        "        # calculate accuracy\n",
        "        proba = torch.exp(output)\n",
        "        top_p, top_class = proba.topk(1, dim=1)\n",
        "        equals = top_class == labels.view(*top_class.shape)\n",
        "        # accuracy += torch.mean(equals.type(torch.FloatTensor)).item()\n",
        "\n",
        "        _, predicted = torch.max(output.data, 1)\n",
        "        total += labels.size(0)\n",
        "        correct += (predicted == labels).sum().item()\n",
        "\n",
        "    return total, correct, valid_loss"
      ]
    },
    {
      "cell_type": "code",
      "execution_count": null,
      "metadata": {
        "execution": {
          "iopub.status.busy": "2023-10-11T16:37:22.112116Z",
          "iopub.status.idle": "2023-10-11T16:37:22.112373Z",
          "shell.execute_reply": "2023-10-11T16:37:22.112259Z",
          "shell.execute_reply.started": "2023-10-11T16:37:22.112242Z"
        },
        "id": "odYpIJCLQipA"
      },
      "outputs": [],
      "source": [
        "epochs = 20\n",
        "tokenizer_config = {\n",
        "    \"max_length\": 100,\n",
        "    \"padding\": \"max_length\",\n",
        "    \"return_tensors\": \"pt\",\n",
        "    \"truncation\": True,\n",
        "    \"add_special_tokens\": True\n",
        "}"
      ]
    },
    {
      "cell_type": "code",
      "execution_count": null,
      "metadata": {
        "execution": {
          "iopub.status.busy": "2023-10-11T16:37:22.113183Z",
          "iopub.status.idle": "2023-10-11T16:37:22.113422Z",
          "shell.execute_reply": "2023-10-11T16:37:22.113321Z",
          "shell.execute_reply.started": "2023-10-11T16:37:22.113304Z"
        },
        "id": "8_K_IQvDQipA"
      },
      "outputs": [],
      "source": [
        "train_loss_data, valid_loss_data = [], []\n",
        "valid_loss_min = np.Inf\n",
        "since = time.time()\n",
        "best_loss = np.inf\n",
        "\n",
        "for epoch in range(epochs):\n",
        "    print(\"Epoch: {}/{}\".format(epoch + 1, epochs))\n",
        "    # monitor training loss\n",
        "    train_loss = 0.0\n",
        "    valid_loss = 0.0\n",
        "    total = 0\n",
        "    correct = 0\n",
        "    e_since = time.time()\n",
        "\n",
        "    # Train Model\n",
        "    train_loss += train(model, train_dataloader, optimizer, criterion, tokenizer_config)\n",
        "    # Now Evaluate\n",
        "    out = evaluate(model, test_dataloader, criterion, tokenizer_config)\n",
        "    total += out[0]\n",
        "    correct += out[1]\n",
        "    valid_loss += out[2]\n",
        "\n",
        "    scheduler.step()\n",
        "\n",
        "    # print training/validation statistics\n",
        "    # calculate average loss over an epoch\n",
        "    train_loss = train_loss / len(train_dataloader.dataset)\n",
        "    valid_loss = valid_loss / len(test_dataloader.dataset)\n",
        "\n",
        "    # calculate train loss and running loss\n",
        "    train_loss_data.append(train_loss * 100)\n",
        "    valid_loss_data.append(valid_loss * 100)\n",
        "\n",
        "    if valid_loss < best_loss:\n",
        "        best_loss = valid_loss\n",
        "        torch.save(model.state_dict(), \"news_model1.pth\")\n",
        "\n",
        "    print(\"\\tTrain loss:{:.6f}..\".format(train_loss),\n",
        "          \"\\tValid Loss:{:.6f}..\".format(valid_loss),\n",
        "          \"\\tAccuracy: {:.4f}\".format(correct / total * 100))\n",
        "\n",
        "time_elapsed = time.time() - since\n",
        "print('Training completed in {:.0f}m {:.0f}s'.format(\n",
        "    time_elapsed // 60, time_elapsed % 60))"
      ]
    },
    {
      "cell_type": "code",
      "execution_count": null,
      "metadata": {
        "execution": {
          "iopub.status.busy": "2023-10-11T16:37:22.114474Z",
          "iopub.status.idle": "2023-10-11T16:37:22.114695Z",
          "shell.execute_reply": "2023-10-11T16:37:22.114592Z",
          "shell.execute_reply.started": "2023-10-11T16:37:22.114577Z"
        },
        "id": "VcvmM4thQipA"
      },
      "outputs": [],
      "source": [
        "from matplotlib import pyplot as plt\n",
        "\n",
        "plt.plot(train_loss_data, label=\"Training loss\")\n",
        "plt.plot(valid_loss_data, label=\"validation loss\")\n",
        "plt.legend(frameon=False)"
      ]
    },
    {
      "cell_type": "markdown",
      "metadata": {
        "id": "PdOgNxTOQipA"
      },
      "source": [
        "# Testing\n",
        "To test this model, the left 15% data was used."
      ]
    },
    {
      "cell_type": "code",
      "execution_count": null,
      "metadata": {
        "execution": {
          "iopub.status.busy": "2023-10-11T16:37:22.115711Z",
          "iopub.status.idle": "2023-10-11T16:37:22.115926Z",
          "shell.execute_reply": "2023-10-11T16:37:22.115824Z",
          "shell.execute_reply.started": "2023-10-11T16:37:22.115808Z"
        },
        "id": "i5oMcNnnQipB"
      },
      "outputs": [],
      "source": [
        "model.load_state_dict(torch.load(\"./news_model1.pth\", map_location = device))"
      ]
    },
    {
      "cell_type": "code",
      "execution_count": null,
      "metadata": {
        "execution": {
          "iopub.status.busy": "2023-10-11T16:37:22.116793Z",
          "iopub.status.idle": "2023-10-11T16:37:22.117050Z",
          "shell.execute_reply": "2023-10-11T16:37:22.116908Z",
          "shell.execute_reply.started": "2023-10-11T16:37:22.116892Z"
        },
        "id": "B8RR8s-iQipB"
      },
      "outputs": [],
      "source": [
        "all_preds = []\n",
        "all_labels = []\n",
        "\n",
        "for batch in test_dataloader:\n",
        "    text, labels = batch\n",
        "    inputs = tokenizer.batch_encode_plus(\n",
        "        text, **tokenizer_config\n",
        "    )\n",
        "    input_ids = inputs['input_ids'].to(device)\n",
        "    attention_mask = inputs['attention_mask'].to(device)\n",
        "    labels = labels.to(device)\n",
        "\n",
        "    # move things to model\n",
        "    output = model( input_ids=input_ids, attention_mask=attention_mask)\n",
        "    preds = output.detach().cpu().numpy()\n",
        "    preds = np.argmax(preds, axis = 1)\n",
        "    all_preds.extend(preds)\n",
        "    all_labels.extend(labels.cpu().numpy())"
      ]
    },
    {
      "cell_type": "code",
      "execution_count": null,
      "metadata": {
        "execution": {
          "iopub.status.busy": "2023-10-11T16:37:22.117859Z",
          "iopub.status.idle": "2023-10-11T16:37:22.118090Z",
          "shell.execute_reply": "2023-10-11T16:37:22.117988Z",
          "shell.execute_reply.started": "2023-10-11T16:37:22.117972Z"
        },
        "id": "z4Wo5YnHQipB"
      },
      "outputs": [],
      "source": [
        "from sklearn.metrics import classification_report\n",
        "\n",
        "# preds = np.argmax(preds, axis = 1)\n",
        "print(classification_report(all_labels, all_preds))"
      ]
    },
    {
      "cell_type": "code",
      "source": [
        "from sklearn.metrics import confusion_matrix\n",
        "print(confusion_matrix(all_labels, all_preds))"
      ],
      "metadata": {
        "id": "UY7vyFzzoUC9"
      },
      "execution_count": null,
      "outputs": []
    },
    {
      "cell_type": "markdown",
      "metadata": {
        "id": "0FUSUomkQipB"
      },
      "source": [
        "#### Thank you very much for reading.\n",
        "### পড়ার জন্য আপনাকে অনেক ধন্যবাদ।"
      ]
    },
    {
      "cell_type": "code",
      "source": [],
      "metadata": {
        "id": "_7ZoQmL8Ujn0"
      },
      "execution_count": null,
      "outputs": []
    }
  ],
  "metadata": {
    "kernelspec": {
      "display_name": "Python 3",
      "name": "python3"
    },
    "language_info": {
      "codemirror_mode": {
        "name": "ipython",
        "version": 3
      },
      "file_extension": ".py",
      "mimetype": "text/x-python",
      "name": "python",
      "nbconvert_exporter": "python",
      "pygments_lexer": "ipython3",
      "version": "3.9.13"
    },
    "colab": {
      "provenance": [],
      "gpuType": "T4"
    },
    "accelerator": "GPU"
  },
  "nbformat": 4,
  "nbformat_minor": 0
}