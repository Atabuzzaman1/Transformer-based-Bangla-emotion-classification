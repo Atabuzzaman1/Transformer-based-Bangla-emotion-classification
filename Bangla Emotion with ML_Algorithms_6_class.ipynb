{
 "cells": [
  {
   "cell_type": "code",
   "execution_count": 1,
   "metadata": {
    "colab": {
     "base_uri": "https://localhost:8080/"
    },
    "id": "0Qq-yY_BZwlW",
    "outputId": "dc87e21f-908e-49c6-fcf1-3db588d45c86"
   },
   "outputs": [
    {
     "name": "stdout",
     "output_type": "stream",
     "text": [
      "Wall time: 5.96 s\n"
     ]
    }
   ],
   "source": [
    "%%time\n",
    "import os\n",
    "from glob import glob\n",
    "import numpy as np\n",
    "import matplotlib.pyplot as plt\n",
    "%matplotlib inline\n",
    "import pandas as pd\n",
    "import seaborn as sns\n",
    "import re\n",
    "import nltk\n",
    "import json\n",
    "import tensorflow as tf\n",
    "from tensorflow import keras\n",
    "from tensorflow.keras import regularizers\n",
    "from keras import models\n",
    "from keras import layers\n",
    "from tensorflow.keras.layers import LSTM,GRU\n",
    "from tensorflow.keras.models import load_model\n",
    "from sklearn.metrics import confusion_matrix\n",
    "from sklearn.metrics import classification_report \n",
    "from sklearn.model_selection import train_test_split\n",
    "from sklearn.linear_model import LogisticRegression, LogisticRegressionCV\n",
    "from sklearn.tree import DecisionTreeClassifier\n",
    "from sklearn.neighbors import KNeighborsClassifier\n",
    "from sklearn.ensemble import RandomForestClassifier, AdaBoostClassifier\n",
    "from sklearn.naive_bayes import MultinomialNB\n",
    "from sklearn.svm import SVC\n",
    "from sklearn.metrics import accuracy_score,precision_score,recall_score,f1_score,roc_auc_score\n",
    "from sklearn.metrics import average_precision_score,roc_auc_score, roc_curve, precision_recall_curve\n",
    "from sklearn.preprocessing import LabelEncoder\n",
    "from sklearn.feature_extraction.text import TfidfVectorizer, CountVectorizer, TfidfTransformer\n",
    "from sklearn.pipeline import Pipeline\n",
    "from tensorflow.keras.preprocessing.text import Tokenizer\n",
    "np.random.seed(42)"
   ]
  },
  {
   "cell_type": "markdown",
   "metadata": {
    "id": "6knU6_xubnBJ"
   },
   "source": [
    "## Reading cleaned data"
   ]
  },
  {
   "cell_type": "code",
   "execution_count": 2,
   "metadata": {
    "id": "Idrp0lOxaOtj"
   },
   "outputs": [
    {
     "data": {
      "text/html": [
       "<div>\n",
       "<style scoped>\n",
       "    .dataframe tbody tr th:only-of-type {\n",
       "        vertical-align: middle;\n",
       "    }\n",
       "\n",
       "    .dataframe tbody tr th {\n",
       "        vertical-align: top;\n",
       "    }\n",
       "\n",
       "    .dataframe thead th {\n",
       "        text-align: right;\n",
       "    }\n",
       "</style>\n",
       "<table border=\"1\" class=\"dataframe\">\n",
       "  <thead>\n",
       "    <tr style=\"text-align: right;\">\n",
       "      <th></th>\n",
       "      <th>texts</th>\n",
       "      <th>classes</th>\n",
       "      <th>labels</th>\n",
       "      <th>ctexts</th>\n",
       "      <th>no_words</th>\n",
       "    </tr>\n",
       "  </thead>\n",
       "  <tbody>\n",
       "    <tr>\n",
       "      <th>0</th>\n",
       "      <td>মেডিকেলে এসে ঠিক ফ্যামিলির ফটো ফ্রেম এর মতো মন...</td>\n",
       "      <td>sadness</td>\n",
       "      <td>1</td>\n",
       "      <td>মেডিকেলে এসে ঠিক ফ্যামিলির ফটো ফ্রেম এর মতো মন...</td>\n",
       "      <td>21</td>\n",
       "    </tr>\n",
       "    <tr>\n",
       "      <th>1</th>\n",
       "      <td>অনেক দিন পর অন্য রকম অনুভূতি হচ্ছে  কেননা আমার...</td>\n",
       "      <td>sadness</td>\n",
       "      <td>1</td>\n",
       "      <td>অনেক দিন পর অন্য রকম অনুভূতি হচ্ছে  কেননা আমার...</td>\n",
       "      <td>30</td>\n",
       "    </tr>\n",
       "    <tr>\n",
       "      <th>2</th>\n",
       "      <td>আগে যতোটা বেশি পছন্দ করতাম দুশ্চরিত্রা মিথিলা ...</td>\n",
       "      <td>disgust</td>\n",
       "      <td>3</td>\n",
       "      <td>আগে যতোটা বেশি পছন্দ করতাম দুশ্চরিত্রা মিথিলা ...</td>\n",
       "      <td>23</td>\n",
       "    </tr>\n",
       "    <tr>\n",
       "      <th>3</th>\n",
       "      <td>মাঝে মাঝে মনে হয় তোমাকে চাওয়াটা অনেক ভুল হয়ত ভ...</td>\n",
       "      <td>sadness</td>\n",
       "      <td>1</td>\n",
       "      <td>মাঝে মাঝে মনে হয় তোমাকে চাওয়াটা অনেক ভুল হয়ত ভ...</td>\n",
       "      <td>26</td>\n",
       "    </tr>\n",
       "    <tr>\n",
       "      <th>4</th>\n",
       "      <td>এখানে কাওকে কবর দিয়ো না তাহলে তোমাদের পরিবারের...</td>\n",
       "      <td>fear</td>\n",
       "      <td>5</td>\n",
       "      <td>এখানে কাওকে কবর দিয়ো না তাহলে তোমাদের পরিবারের...</td>\n",
       "      <td>30</td>\n",
       "    </tr>\n",
       "  </tbody>\n",
       "</table>\n",
       "</div>"
      ],
      "text/plain": [
       "                                               texts  classes  labels  \\\n",
       "0  মেডিকেলে এসে ঠিক ফ্যামিলির ফটো ফ্রেম এর মতো মন...  sadness       1   \n",
       "1  অনেক দিন পর অন্য রকম অনুভূতি হচ্ছে  কেননা আমার...  sadness       1   \n",
       "2  আগে যতোটা বেশি পছন্দ করতাম দুশ্চরিত্রা মিথিলা ...  disgust       3   \n",
       "3  মাঝে মাঝে মনে হয় তোমাকে চাওয়াটা অনেক ভুল হয়ত ভ...  sadness       1   \n",
       "4  এখানে কাওকে কবর দিয়ো না তাহলে তোমাদের পরিবারের...     fear       5   \n",
       "\n",
       "                                              ctexts  no_words  \n",
       "0  মেডিকেলে এসে ঠিক ফ্যামিলির ফটো ফ্রেম এর মতো মন...        21  \n",
       "1  অনেক দিন পর অন্য রকম অনুভূতি হচ্ছে  কেননা আমার...        30  \n",
       "2  আগে যতোটা বেশি পছন্দ করতাম দুশ্চরিত্রা মিথিলা ...        23  \n",
       "3  মাঝে মাঝে মনে হয় তোমাকে চাওয়াটা অনেক ভুল হয়ত ভ...        26  \n",
       "4  এখানে কাওকে কবর দিয়ো না তাহলে তোমাদের পরিবারের...        30  "
      ]
     },
     "execution_count": 2,
     "metadata": {},
     "output_type": "execute_result"
    }
   ],
   "source": [
    "df=pd.read_csv('bangla_emotions_dataset_11927.csv',encoding='utf-8')\n",
    "df.head()"
   ]
  },
  {
   "cell_type": "code",
   "execution_count": 3,
   "metadata": {
    "colab": {
     "base_uri": "https://localhost:8080/",
     "height": 359
    },
    "id": "kEL83OY5H6XS",
    "outputId": "2a171191-d1f7-4d4c-fa3b-313e50525fae"
   },
   "outputs": [
    {
     "data": {
      "text/html": [
       "<div>\n",
       "<style scoped>\n",
       "    .dataframe tbody tr th:only-of-type {\n",
       "        vertical-align: middle;\n",
       "    }\n",
       "\n",
       "    .dataframe tbody tr th {\n",
       "        vertical-align: top;\n",
       "    }\n",
       "\n",
       "    .dataframe thead th {\n",
       "        text-align: right;\n",
       "    }\n",
       "</style>\n",
       "<table border=\"1\" class=\"dataframe\">\n",
       "  <thead>\n",
       "    <tr style=\"text-align: right;\">\n",
       "      <th></th>\n",
       "      <th>labels</th>\n",
       "      <th>ctexts</th>\n",
       "    </tr>\n",
       "  </thead>\n",
       "  <tbody>\n",
       "    <tr>\n",
       "      <th>0</th>\n",
       "      <td>1</td>\n",
       "      <td>মেডিকেলে এসে ঠিক ফ্যামিলির ফটো ফ্রেম এর মতো মন...</td>\n",
       "    </tr>\n",
       "    <tr>\n",
       "      <th>1</th>\n",
       "      <td>1</td>\n",
       "      <td>অনেক দিন পর অন্য রকম অনুভূতি হচ্ছে  কেননা আমার...</td>\n",
       "    </tr>\n",
       "    <tr>\n",
       "      <th>2</th>\n",
       "      <td>3</td>\n",
       "      <td>আগে যতোটা বেশি পছন্দ করতাম দুশ্চরিত্রা মিথিলা ...</td>\n",
       "    </tr>\n",
       "    <tr>\n",
       "      <th>3</th>\n",
       "      <td>1</td>\n",
       "      <td>মাঝে মাঝে মনে হয় তোমাকে চাওয়াটা অনেক ভুল হয়ত ভ...</td>\n",
       "    </tr>\n",
       "    <tr>\n",
       "      <th>4</th>\n",
       "      <td>5</td>\n",
       "      <td>এখানে কাওকে কবর দিয়ো না তাহলে তোমাদের পরিবারের...</td>\n",
       "    </tr>\n",
       "  </tbody>\n",
       "</table>\n",
       "</div>"
      ],
      "text/plain": [
       "   labels                                             ctexts\n",
       "0       1  মেডিকেলে এসে ঠিক ফ্যামিলির ফটো ফ্রেম এর মতো মন...\n",
       "1       1  অনেক দিন পর অন্য রকম অনুভূতি হচ্ছে  কেননা আমার...\n",
       "2       3  আগে যতোটা বেশি পছন্দ করতাম দুশ্চরিত্রা মিথিলা ...\n",
       "3       1  মাঝে মাঝে মনে হয় তোমাকে চাওয়াটা অনেক ভুল হয়ত ভ...\n",
       "4       5  এখানে কাওকে কবর দিয়ো না তাহলে তোমাদের পরিবারের..."
      ]
     },
     "execution_count": 3,
     "metadata": {},
     "output_type": "execute_result"
    }
   ],
   "source": [
    "df=df.drop(['texts','classes','no_words'],axis=1)\n",
    "df.head()"
   ]
  },
  {
   "cell_type": "code",
   "execution_count": null,
   "metadata": {
    "colab": {
     "base_uri": "https://localhost:8080/",
     "height": 359
    },
    "id": "sbfxxKetaWEE",
    "outputId": "798d12e7-cd2e-4efa-8981-ddc990e04aa6"
   },
   "outputs": [],
   "source": []
  },
  {
   "cell_type": "code",
   "execution_count": null,
   "metadata": {
    "colab": {
     "base_uri": "https://localhost:8080/",
     "height": 359
    },
    "id": "OdZQ1OLIIcSL",
    "outputId": "257caeba-a833-4e23-b31b-dc3db2b0e8c1"
   },
   "outputs": [],
   "source": []
  },
  {
   "cell_type": "code",
   "execution_count": 4,
   "metadata": {},
   "outputs": [
    {
     "name": "stdout",
     "output_type": "stream",
     "text": [
      "<class 'pandas.core.frame.DataFrame'>\n",
      "RangeIndex: 11927 entries, 0 to 11926\n",
      "Data columns (total 2 columns):\n",
      " #   Column  Non-Null Count  Dtype \n",
      "---  ------  --------------  ----- \n",
      " 0   labels  11927 non-null  int64 \n",
      " 1   ctexts  11927 non-null  object\n",
      "dtypes: int64(1), object(1)\n",
      "memory usage: 186.5+ KB\n"
     ]
    }
   ],
   "source": [
    "df.info()"
   ]
  },
  {
   "cell_type": "code",
   "execution_count": 5,
   "metadata": {},
   "outputs": [
    {
     "data": {
      "text/html": [
       "<div>\n",
       "<style scoped>\n",
       "    .dataframe tbody tr th:only-of-type {\n",
       "        vertical-align: middle;\n",
       "    }\n",
       "\n",
       "    .dataframe tbody tr th {\n",
       "        vertical-align: top;\n",
       "    }\n",
       "\n",
       "    .dataframe thead th {\n",
       "        text-align: right;\n",
       "    }\n",
       "</style>\n",
       "<table border=\"1\" class=\"dataframe\">\n",
       "  <thead>\n",
       "    <tr style=\"text-align: right;\">\n",
       "      <th></th>\n",
       "      <th>labels</th>\n",
       "      <th>ctexts</th>\n",
       "    </tr>\n",
       "  </thead>\n",
       "  <tbody>\n",
       "    <tr>\n",
       "      <th>0</th>\n",
       "      <td>1</td>\n",
       "      <td>মেডিকেলে এসে ঠিক ফ্যামিলির ফটো ফ্রেম এর মতো মন...</td>\n",
       "    </tr>\n",
       "    <tr>\n",
       "      <th>1</th>\n",
       "      <td>1</td>\n",
       "      <td>অনেক দিন পর অন্য রকম অনুভূতি হচ্ছে  কেননা আমার...</td>\n",
       "    </tr>\n",
       "    <tr>\n",
       "      <th>2</th>\n",
       "      <td>3</td>\n",
       "      <td>আগে যতোটা বেশি পছন্দ করতাম দুশ্চরিত্রা মিথিলা ...</td>\n",
       "    </tr>\n",
       "    <tr>\n",
       "      <th>3</th>\n",
       "      <td>1</td>\n",
       "      <td>মাঝে মাঝে মনে হয় তোমাকে চাওয়াটা অনেক ভুল হয়ত ভ...</td>\n",
       "    </tr>\n",
       "    <tr>\n",
       "      <th>4</th>\n",
       "      <td>5</td>\n",
       "      <td>এখানে কাওকে কবর দিয়ো না তাহলে তোমাদের পরিবারের...</td>\n",
       "    </tr>\n",
       "    <tr>\n",
       "      <th>...</th>\n",
       "      <td>...</td>\n",
       "      <td>...</td>\n",
       "    </tr>\n",
       "    <tr>\n",
       "      <th>11922</th>\n",
       "      <td>1</td>\n",
       "      <td>চারপাশের এত অনিয়ম দেখে যখন ভীষণভাবে ডিপ্রেশনে...</td>\n",
       "    </tr>\n",
       "    <tr>\n",
       "      <th>11923</th>\n",
       "      <td>2</td>\n",
       "      <td>আট মাসে অর্ধেক রিজার্ভ শেষ</td>\n",
       "    </tr>\n",
       "    <tr>\n",
       "      <th>11924</th>\n",
       "      <td>0</td>\n",
       "      <td>বাংলাদেশের একমাত্র অনুষ্ঠান ইত্যাদি যার জনপ্রি...</td>\n",
       "    </tr>\n",
       "    <tr>\n",
       "      <th>11925</th>\n",
       "      <td>2</td>\n",
       "      <td>বাহ এই একটা অনুষ্ঠান ই ঠিক আগের মতোবাংলার দর্শ...</td>\n",
       "    </tr>\n",
       "    <tr>\n",
       "      <th>11926</th>\n",
       "      <td>0</td>\n",
       "      <td>নিজের এলাকা এবং জেলা যদি ইত্যাদিতে দেখায় তখন এ...</td>\n",
       "    </tr>\n",
       "  </tbody>\n",
       "</table>\n",
       "<p>11927 rows × 2 columns</p>\n",
       "</div>"
      ],
      "text/plain": [
       "       labels                                             ctexts\n",
       "0           1  মেডিকেলে এসে ঠিক ফ্যামিলির ফটো ফ্রেম এর মতো মন...\n",
       "1           1  অনেক দিন পর অন্য রকম অনুভূতি হচ্ছে  কেননা আমার...\n",
       "2           3  আগে যতোটা বেশি পছন্দ করতাম দুশ্চরিত্রা মিথিলা ...\n",
       "3           1  মাঝে মাঝে মনে হয় তোমাকে চাওয়াটা অনেক ভুল হয়ত ভ...\n",
       "4           5  এখানে কাওকে কবর দিয়ো না তাহলে তোমাদের পরিবারের...\n",
       "...       ...                                                ...\n",
       "11922       1  চারপাশের এত অনিয়ম দেখে যখন ভীষণভাবে ডিপ্রেশনে...\n",
       "11923       2                        আট মাসে অর্ধেক রিজার্ভ শেষ \n",
       "11924       0  বাংলাদেশের একমাত্র অনুষ্ঠান ইত্যাদি যার জনপ্রি...\n",
       "11925       2  বাহ এই একটা অনুষ্ঠান ই ঠিক আগের মতোবাংলার দর্শ...\n",
       "11926       0  নিজের এলাকা এবং জেলা যদি ইত্যাদিতে দেখায় তখন এ...\n",
       "\n",
       "[11927 rows x 2 columns]"
      ]
     },
     "execution_count": 5,
     "metadata": {},
     "output_type": "execute_result"
    }
   ],
   "source": [
    "df"
   ]
  },
  {
   "cell_type": "code",
   "execution_count": null,
   "metadata": {},
   "outputs": [],
   "source": []
  },
  {
   "cell_type": "code",
   "execution_count": 6,
   "metadata": {},
   "outputs": [
    {
     "data": {
      "text/plain": [
       "0    2654\n",
       "1    2477\n",
       "3    2229\n",
       "4    2047\n",
       "2    1266\n",
       "5    1254\n",
       "Name: labels, dtype: int64"
      ]
     },
     "execution_count": 6,
     "metadata": {},
     "output_type": "execute_result"
    }
   ],
   "source": [
    "df.labels.value_counts()"
   ]
  },
  {
   "cell_type": "code",
   "execution_count": 7,
   "metadata": {
    "colab": {
     "base_uri": "https://localhost:8080/"
    },
    "id": "ZzI1z8xbXBor",
    "outputId": "aa05f65d-6ca6-42f5-84b4-97eff5544c9f"
   },
   "outputs": [],
   "source": [
    "x_train, x_test, y_train, y_test = train_test_split(df['ctexts'].values, df['labels'].values, test_size=0.25,shuffle=True)"
   ]
  },
  {
   "cell_type": "code",
   "execution_count": 8,
   "metadata": {},
   "outputs": [
    {
     "name": "stdout",
     "output_type": "stream",
     "text": [
      "Train:  (8945,) (8945,)\n",
      "Test:  (2982,) (2982,)\n"
     ]
    }
   ],
   "source": [
    "print('Train: ',x_train.shape,y_train.shape)\n",
    "print('Test: ', x_test.shape, y_test.shape)"
   ]
  },
  {
   "cell_type": "code",
   "execution_count": 9,
   "metadata": {},
   "outputs": [
    {
     "data": {
      "text/plain": [
       "Counter({1: 1871, 2: 922, 4: 1544, 0: 1972, 3: 1702, 5: 934})"
      ]
     },
     "execution_count": 9,
     "metadata": {},
     "output_type": "execute_result"
    }
   ],
   "source": [
    "import collections, numpy\n",
    "a= collections.Counter(y_train)\n",
    "a"
   ]
  },
  {
   "cell_type": "code",
   "execution_count": 10,
   "metadata": {},
   "outputs": [
    {
     "data": {
      "text/plain": [
       "Counter({4: 503, 2: 344, 5: 320, 0: 682, 1: 606, 3: 527})"
      ]
     },
     "execution_count": 10,
     "metadata": {},
     "output_type": "execute_result"
    }
   ],
   "source": [
    "a= collections.Counter(y_test)\n",
    "a"
   ]
  },
  {
   "cell_type": "markdown",
   "metadata": {
    "id": "DeImjRAHbpqZ"
   },
   "source": [
    "## ML Models"
   ]
  },
  {
   "cell_type": "code",
   "execution_count": 11,
   "metadata": {
    "colab": {
     "base_uri": "https://localhost:8080/"
    },
    "id": "TzNcDyR9a1jB",
    "outputId": "e254b750-0e89-481f-a325-cca62be0485c"
   },
   "outputs": [
    {
     "name": "stdout",
     "output_type": "stream",
     "text": [
      "Wall time: 996 µs\n"
     ]
    }
   ],
   "source": [
    "%%time\n",
    "lr_model = LogisticRegressionCV(class_weight='balanced', max_iter=400)\n",
    "dt_model = DecisionTreeClassifier(class_weight='balanced')\n",
    "rf_model = RandomForestClassifier(class_weight='balanced')\n",
    "mnb_model = MultinomialNB()\n",
    "svm_model = SVC(class_weight='balanced')\n",
    "knn_model = KNeighborsClassifier()\n",
    "ada_model = AdaBoostClassifier()\n",
    "model_names = ['Logistic Regression','Decision Tree','Random Forest','Naive Bayes', 'SVM', 'KNN', 'AdaBoost']\n",
    "ml_models = [lr_model,dt_model,rf_model,mnb_model, svm_model, knn_model, ada_model]"
   ]
  },
  {
   "cell_type": "code",
   "execution_count": 12,
   "metadata": {
    "id": "Av4vUb6Gc3p8"
   },
   "outputs": [
    {
     "name": "stderr",
     "output_type": "stream",
     "text": [
      "C:\\ProgramData\\Anaconda3\\lib\\site-packages\\sklearn\\linear_model\\_logistic.py:814: ConvergenceWarning: lbfgs failed to converge (status=1):\n",
      "STOP: TOTAL NO. of ITERATIONS REACHED LIMIT.\n",
      "\n",
      "Increase the number of iterations (max_iter) or scale the data as shown in:\n",
      "    https://scikit-learn.org/stable/modules/preprocessing.html\n",
      "Please also refer to the documentation for alternative solver options:\n",
      "    https://scikit-learn.org/stable/modules/linear_model.html#logistic-regression\n",
      "  n_iter_i = _check_optimize_result(\n",
      "C:\\ProgramData\\Anaconda3\\lib\\site-packages\\sklearn\\linear_model\\_logistic.py:814: ConvergenceWarning: lbfgs failed to converge (status=1):\n",
      "STOP: TOTAL NO. of ITERATIONS REACHED LIMIT.\n",
      "\n",
      "Increase the number of iterations (max_iter) or scale the data as shown in:\n",
      "    https://scikit-learn.org/stable/modules/preprocessing.html\n",
      "Please also refer to the documentation for alternative solver options:\n",
      "    https://scikit-learn.org/stable/modules/linear_model.html#logistic-regression\n",
      "  n_iter_i = _check_optimize_result(\n",
      "C:\\ProgramData\\Anaconda3\\lib\\site-packages\\sklearn\\linear_model\\_logistic.py:814: ConvergenceWarning: lbfgs failed to converge (status=1):\n",
      "STOP: TOTAL NO. of ITERATIONS REACHED LIMIT.\n",
      "\n",
      "Increase the number of iterations (max_iter) or scale the data as shown in:\n",
      "    https://scikit-learn.org/stable/modules/preprocessing.html\n",
      "Please also refer to the documentation for alternative solver options:\n",
      "    https://scikit-learn.org/stable/modules/linear_model.html#logistic-regression\n",
      "  n_iter_i = _check_optimize_result(\n",
      "C:\\ProgramData\\Anaconda3\\lib\\site-packages\\sklearn\\linear_model\\_logistic.py:814: ConvergenceWarning: lbfgs failed to converge (status=1):\n",
      "STOP: TOTAL NO. of ITERATIONS REACHED LIMIT.\n",
      "\n",
      "Increase the number of iterations (max_iter) or scale the data as shown in:\n",
      "    https://scikit-learn.org/stable/modules/preprocessing.html\n",
      "Please also refer to the documentation for alternative solver options:\n",
      "    https://scikit-learn.org/stable/modules/linear_model.html#logistic-regression\n",
      "  n_iter_i = _check_optimize_result(\n",
      "C:\\ProgramData\\Anaconda3\\lib\\site-packages\\sklearn\\linear_model\\_logistic.py:814: ConvergenceWarning: lbfgs failed to converge (status=1):\n",
      "STOP: TOTAL NO. of ITERATIONS REACHED LIMIT.\n",
      "\n",
      "Increase the number of iterations (max_iter) or scale the data as shown in:\n",
      "    https://scikit-learn.org/stable/modules/preprocessing.html\n",
      "Please also refer to the documentation for alternative solver options:\n",
      "    https://scikit-learn.org/stable/modules/linear_model.html#logistic-regression\n",
      "  n_iter_i = _check_optimize_result(\n"
     ]
    },
    {
     "name": "stdout",
     "output_type": "stream",
     "text": [
      "Wall time: 3min 43s\n"
     ]
    }
   ],
   "source": [
    "%%time\n",
    "def model_train(model, x_train, y_train):\n",
    "  pipe = Pipeline([\n",
    "        ('FE', TfidfVectorizer(ngram_range=(1,2), use_idf = True, tokenizer=lambda x: x.split(), max_features=20000)),  \n",
    "        ('Transformer', TfidfTransformer()),  \n",
    "        ('M', model)\n",
    "    ])\n",
    "  pipe.fit(x_train, y_train)\n",
    "  return pipe\n",
    "\n",
    "trained_ml_models = []\n",
    "for i in ml_models:\n",
    "    tt = model_train(i,x_train, y_train)\n",
    "    trained_ml_models.append(tt)"
   ]
  },
  {
   "cell_type": "markdown",
   "metadata": {
    "id": "Xp3jpy8VKP6X"
   },
   "source": [
    "### Performance on validation set"
   ]
  },
  {
   "cell_type": "code",
   "execution_count": null,
   "metadata": {
    "colab": {
     "base_uri": "https://localhost:8080/",
     "height": 266
    },
    "id": "zrRcinoLgZIO",
    "outputId": "718f71c4-19ca-4ca3-bf82-7d78641dac1c"
   },
   "outputs": [],
   "source": []
  },
  {
   "cell_type": "markdown",
   "metadata": {
    "id": "YKrsOI5bKfmx"
   },
   "source": [
    "### Performance on test set"
   ]
  },
  {
   "cell_type": "code",
   "execution_count": 13,
   "metadata": {
    "colab": {
     "base_uri": "https://localhost:8080/",
     "height": 266
    },
    "id": "N-scxU_JKiov",
    "outputId": "8e903b9d-7d7e-4b25-dfdb-5b884c810467"
   },
   "outputs": [
    {
     "name": "stderr",
     "output_type": "stream",
     "text": [
      "C:\\ProgramData\\Anaconda3\\lib\\site-packages\\sklearn\\neighbors\\_classification.py:228: FutureWarning: Unlike other reduction functions (e.g. `skew`, `kurtosis`), the default behavior of `mode` typically preserves the axis it acts along. In SciPy 1.11.0, this behavior will change: the default value of `keepdims` will become False, the `axis` over which the statistic is taken will be eliminated, and the value None will no longer be accepted. Set `keepdims` to True or False to avoid this warning.\n",
      "  mode, _ = stats.mode(_y[neigh_ind, k], axis=1)\n"
     ]
    },
    {
     "data": {
      "text/html": [
       "<div>\n",
       "<style scoped>\n",
       "    .dataframe tbody tr th:only-of-type {\n",
       "        vertical-align: middle;\n",
       "    }\n",
       "\n",
       "    .dataframe tbody tr th {\n",
       "        vertical-align: top;\n",
       "    }\n",
       "\n",
       "    .dataframe thead th {\n",
       "        text-align: right;\n",
       "    }\n",
       "</style>\n",
       "<table border=\"1\" class=\"dataframe\">\n",
       "  <thead>\n",
       "    <tr style=\"text-align: right;\">\n",
       "      <th></th>\n",
       "      <th>Precision</th>\n",
       "      <th>Recall</th>\n",
       "      <th>F1 Score</th>\n",
       "      <th>Accuracy</th>\n",
       "    </tr>\n",
       "  </thead>\n",
       "  <tbody>\n",
       "    <tr>\n",
       "      <th>Logistic Regression</th>\n",
       "      <td>54.15</td>\n",
       "      <td>54.23</td>\n",
       "      <td>54.15</td>\n",
       "      <td>54.23</td>\n",
       "    </tr>\n",
       "    <tr>\n",
       "      <th>Decision Tree</th>\n",
       "      <td>39.41</td>\n",
       "      <td>39.30</td>\n",
       "      <td>39.29</td>\n",
       "      <td>39.30</td>\n",
       "    </tr>\n",
       "    <tr>\n",
       "      <th>Random Forest</th>\n",
       "      <td>51.51</td>\n",
       "      <td>50.13</td>\n",
       "      <td>49.14</td>\n",
       "      <td>50.13</td>\n",
       "    </tr>\n",
       "    <tr>\n",
       "      <th>Naive Bayes</th>\n",
       "      <td>58.72</td>\n",
       "      <td>50.44</td>\n",
       "      <td>47.44</td>\n",
       "      <td>50.44</td>\n",
       "    </tr>\n",
       "    <tr>\n",
       "      <th>SVM</th>\n",
       "      <td>56.88</td>\n",
       "      <td>53.66</td>\n",
       "      <td>53.57</td>\n",
       "      <td>53.66</td>\n",
       "    </tr>\n",
       "    <tr>\n",
       "      <th>KNN</th>\n",
       "      <td>43.92</td>\n",
       "      <td>33.57</td>\n",
       "      <td>34.16</td>\n",
       "      <td>33.57</td>\n",
       "    </tr>\n",
       "    <tr>\n",
       "      <th>AdaBoost</th>\n",
       "      <td>46.08</td>\n",
       "      <td>36.28</td>\n",
       "      <td>36.31</td>\n",
       "      <td>36.28</td>\n",
       "    </tr>\n",
       "  </tbody>\n",
       "</table>\n",
       "</div>"
      ],
      "text/plain": [
       "                     Precision  Recall  F1 Score  Accuracy\n",
       "Logistic Regression      54.15   54.23     54.15     54.23\n",
       "Decision Tree            39.41   39.30     39.29     39.30\n",
       "Random Forest            51.51   50.13     49.14     50.13\n",
       "Naive Bayes              58.72   50.44     47.44     50.44\n",
       "SVM                      56.88   53.66     53.57     53.66\n",
       "KNN                      43.92   33.57     34.16     33.57\n",
       "AdaBoost                 46.08   36.28     36.31     36.28"
      ]
     },
     "execution_count": 13,
     "metadata": {},
     "output_type": "execute_result"
    }
   ],
   "source": [
    "pr_list = []\n",
    "re_list = []\n",
    "f1_list = []\n",
    "acc_list = []\n",
    "\n",
    "def print_results(md, x_test, y_test, name):\n",
    "    #print(\"\\n\\nClassifier: \", name)\n",
    "    pred_y = md.predict(x_test)\n",
    "    true, pred = y_test, pred_y\n",
    "    # print(confusion_matrix(true,pred))\n",
    "    # print(classification_report(true,pred))\n",
    "    # print(\"\\nPrecison : \",precision_score(pred,true, average = 'weighted'))\n",
    "    # print(\"\\nRecall : \",recall_score(pred,true,  average = 'weighted'))\n",
    "    # print(\"\\nF1 : \",f1_score(pred,true,  average = 'weighted'))\n",
    "\n",
    "    pr_list.append((round(precision_score(y_test, pred_y, average='weighted'),4)*100)) \n",
    "    re_list.append((round(recall_score(y_test, pred_y, average='weighted'),4)*100))\n",
    "    f1_list.append((round(f1_score(y_test, pred_y, average='weighted'),4)*100))\n",
    "    acc_list.append((round(accuracy_score(y_test, pred_y),4)*100))\n",
    "\n",
    "for i in range(len(trained_ml_models)):\n",
    "    md = trained_ml_models[i]\n",
    "    name = model_names[i]\n",
    "    print_results(md, x_test, y_test, name)\n",
    "\n",
    "performance_matrix = pd.DataFrame({'Precision':pr_list,\n",
    "                                   'Recall':re_list,'F1 Score':f1_list, 'Accuracy':acc_list},\n",
    "                                  index =model_names)\n",
    "performance_matrix"
   ]
  },
  {
   "cell_type": "markdown",
   "metadata": {
    "id": "FKOmmwNmK25O"
   },
   "source": [
    "## Ensemble"
   ]
  },
  {
   "cell_type": "code",
   "execution_count": 14,
   "metadata": {
    "colab": {
     "base_uri": "https://localhost:8080/"
    },
    "id": "47qCvkjITjsO",
    "outputId": "37bdd240-47d8-4bee-fd67-0e2cc10689de"
   },
   "outputs": [
    {
     "name": "stdout",
     "output_type": "stream",
     "text": [
      "11927\n"
     ]
    }
   ],
   "source": [
    "whole_data = []\n",
    "\n",
    "def make_whole_list(L):\n",
    "  for i in L:\n",
    "    whole_data.append(i)\n",
    "\n",
    "make_whole_list(x_train)\n",
    "#make_whole_list(val_data)\n",
    "make_whole_list(x_test)\n",
    "print(len(whole_data))\n"
   ]
  },
  {
   "cell_type": "code",
   "execution_count": 15,
   "metadata": {
    "id": "1Or9XZ5irXRW"
   },
   "outputs": [],
   "source": [
    "tf = TfidfVectorizer(ngram_range=(1,2), use_idf = True, tokenizer=lambda x: x.split(),  max_features=20000)\n",
    "tf.fit_transform(whole_data) ### Bit confusion arises here need to resolve\n",
    "trained_texts = tf.transform(x_train)\n",
    "#val_texts = tf.transform(val_data)\n",
    "test_texts = tf.transform(x_test)"
   ]
  },
  {
   "cell_type": "code",
   "execution_count": 16,
   "metadata": {
    "colab": {
     "base_uri": "https://localhost:8080/"
    },
    "id": "d39wCeeJiiXi",
    "outputId": "bdbcf3c5-e3d2-40e7-e8f5-b5c5c3f510a3"
   },
   "outputs": [
    {
     "name": "stderr",
     "output_type": "stream",
     "text": [
      "C:\\ProgramData\\Anaconda3\\lib\\site-packages\\sklearn\\linear_model\\_logistic.py:814: ConvergenceWarning: lbfgs failed to converge (status=1):\n",
      "STOP: TOTAL NO. of ITERATIONS REACHED LIMIT.\n",
      "\n",
      "Increase the number of iterations (max_iter) or scale the data as shown in:\n",
      "    https://scikit-learn.org/stable/modules/preprocessing.html\n",
      "Please also refer to the documentation for alternative solver options:\n",
      "    https://scikit-learn.org/stable/modules/linear_model.html#logistic-regression\n",
      "  n_iter_i = _check_optimize_result(\n",
      "C:\\ProgramData\\Anaconda3\\lib\\site-packages\\sklearn\\linear_model\\_logistic.py:814: ConvergenceWarning: lbfgs failed to converge (status=1):\n",
      "STOP: TOTAL NO. of ITERATIONS REACHED LIMIT.\n",
      "\n",
      "Increase the number of iterations (max_iter) or scale the data as shown in:\n",
      "    https://scikit-learn.org/stable/modules/preprocessing.html\n",
      "Please also refer to the documentation for alternative solver options:\n",
      "    https://scikit-learn.org/stable/modules/linear_model.html#logistic-regression\n",
      "  n_iter_i = _check_optimize_result(\n",
      "C:\\ProgramData\\Anaconda3\\lib\\site-packages\\sklearn\\linear_model\\_logistic.py:814: ConvergenceWarning: lbfgs failed to converge (status=1):\n",
      "STOP: TOTAL NO. of ITERATIONS REACHED LIMIT.\n",
      "\n",
      "Increase the number of iterations (max_iter) or scale the data as shown in:\n",
      "    https://scikit-learn.org/stable/modules/preprocessing.html\n",
      "Please also refer to the documentation for alternative solver options:\n",
      "    https://scikit-learn.org/stable/modules/linear_model.html#logistic-regression\n",
      "  n_iter_i = _check_optimize_result(\n",
      "C:\\ProgramData\\Anaconda3\\lib\\site-packages\\sklearn\\linear_model\\_logistic.py:814: ConvergenceWarning: lbfgs failed to converge (status=1):\n",
      "STOP: TOTAL NO. of ITERATIONS REACHED LIMIT.\n",
      "\n",
      "Increase the number of iterations (max_iter) or scale the data as shown in:\n",
      "    https://scikit-learn.org/stable/modules/preprocessing.html\n",
      "Please also refer to the documentation for alternative solver options:\n",
      "    https://scikit-learn.org/stable/modules/linear_model.html#logistic-regression\n",
      "  n_iter_i = _check_optimize_result(\n",
      "C:\\ProgramData\\Anaconda3\\lib\\site-packages\\sklearn\\linear_model\\_logistic.py:814: ConvergenceWarning: lbfgs failed to converge (status=1):\n",
      "STOP: TOTAL NO. of ITERATIONS REACHED LIMIT.\n",
      "\n",
      "Increase the number of iterations (max_iter) or scale the data as shown in:\n",
      "    https://scikit-learn.org/stable/modules/preprocessing.html\n",
      "Please also refer to the documentation for alternative solver options:\n",
      "    https://scikit-learn.org/stable/modules/linear_model.html#logistic-regression\n",
      "  n_iter_i = _check_optimize_result(\n"
     ]
    },
    {
     "name": "stdout",
     "output_type": "stream",
     "text": [
      "Wall time: 3min 57s\n"
     ]
    },
    {
     "data": {
      "text/plain": [
       "VotingClassifier(estimators=[('SVC', SVC(class_weight='balanced')),\n",
       "                             ('LogReg',\n",
       "                              LogisticRegressionCV(class_weight='balanced',\n",
       "                                                   max_iter=400)),\n",
       "                             ('RF',\n",
       "                              RandomForestClassifier(class_weight='balanced')),\n",
       "                             ('mnb', MultinomialNB())])"
      ]
     },
     "execution_count": 16,
     "metadata": {},
     "output_type": "execute_result"
    }
   ],
   "source": [
    "%%time\n",
    "from sklearn.ensemble import VotingClassifier\n",
    "LogReg_clf = LogisticRegressionCV(class_weight='balanced', max_iter=400)\n",
    "rt_clf =   RandomForestClassifier(class_weight='balanced')\n",
    "SVC_clf = SVC(class_weight='balanced')\n",
    "mnb_model = MultinomialNB()\n",
    "\n",
    "\n",
    "voting_clf = VotingClassifier(estimators=[('SVC', SVC_clf), ('LogReg', LogReg_clf),('RF', rt_clf),('mnb',mnb_model)], voting='hard')\n",
    "voting_clf.fit(trained_texts, y_train)\n"
   ]
  },
  {
   "cell_type": "markdown",
   "metadata": {
    "id": "FRgrCN9GSWCg"
   },
   "source": [
    "### Val set"
   ]
  },
  {
   "cell_type": "code",
   "execution_count": null,
   "metadata": {
    "colab": {
     "base_uri": "https://localhost:8080/"
    },
    "id": "3zE6Xz8oxBEY",
    "outputId": "507ee5a6-b818-47e1-fdc8-6c8c3aa74fcf"
   },
   "outputs": [],
   "source": []
  },
  {
   "cell_type": "markdown",
   "metadata": {
    "id": "_IFem5x5SaFA"
   },
   "source": [
    "### Test set"
   ]
  },
  {
   "cell_type": "code",
   "execution_count": 18,
   "metadata": {
    "colab": {
     "base_uri": "https://localhost:8080/"
    },
    "id": "5PWtK7TnSZvY",
    "outputId": "c05dc0dc-0e9f-46d4-ae6e-fed0f0ef3f77"
   },
   "outputs": [
    {
     "name": "stdout",
     "output_type": "stream",
     "text": [
      "[[515  89   8  36  30   4]\n",
      " [ 94 371  20  65  44  12]\n",
      " [ 86  92  82  45  24  15]\n",
      " [ 51 105  15 287  63   6]\n",
      " [ 55 120  15  92 216   5]\n",
      " [ 37  78  14  17  22 152]]\n",
      "              precision    recall  f1-score   support\n",
      "\n",
      "           0       0.61      0.76      0.68       682\n",
      "           1       0.43      0.61      0.51       606\n",
      "           2       0.53      0.24      0.33       344\n",
      "           3       0.53      0.54      0.54       527\n",
      "           4       0.54      0.43      0.48       503\n",
      "           5       0.78      0.47      0.59       320\n",
      "\n",
      "    accuracy                           0.54      2982\n",
      "   macro avg       0.57      0.51      0.52      2982\n",
      "weighted avg       0.56      0.54      0.54      2982\n",
      "\n",
      "\n",
      "Precison :  55.910000000000004\n",
      "\n",
      "Recall :  54.43\n",
      "\n",
      "F1 :  53.53\n",
      "\n",
      "Accuracy :  54.43\n"
     ]
    }
   ],
   "source": [
    "preds = voting_clf.predict(test_texts)\n",
    "true, pred = y_test, preds\n",
    "print(confusion_matrix(true,pred))\n",
    "print(classification_report(true,pred))\n",
    "print(\"\\nPrecison : \",round(precision_score(true, pred, average = 'weighted'),4)*100)\n",
    "print(\"\\nRecall : \",round(recall_score(true, pred,  average = 'weighted'),4)*100)\n",
    "print(\"\\nF1 : \",round(f1_score(true, pred,  average = 'weighted'),4)*100)\n",
    "print(\"\\nAccuracy : \", round(accuracy_score(true, pred),4)*100)"
   ]
  },
  {
   "cell_type": "code",
   "execution_count": null,
   "metadata": {},
   "outputs": [],
   "source": []
  }
 ],
 "metadata": {
  "accelerator": "GPU",
  "colab": {
   "collapsed_sections": [],
   "name": "ML-Algorithms-NAACL-(Emotion-Data)",
   "provenance": [],
   "toc_visible": true
  },
  "kernelspec": {
   "display_name": "Python 3 (ipykernel)",
   "language": "python",
   "name": "python3"
  },
  "language_info": {
   "codemirror_mode": {
    "name": "ipython",
    "version": 3
   },
   "file_extension": ".py",
   "mimetype": "text/x-python",
   "name": "python",
   "nbconvert_exporter": "python",
   "pygments_lexer": "ipython3",
   "version": "3.9.13"
  }
 },
 "nbformat": 4,
 "nbformat_minor": 1
}
